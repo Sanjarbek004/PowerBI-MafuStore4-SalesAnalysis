{
  "nbformat": 4,
  "nbformat_minor": 0,
  "metadata": {
    "colab": {
      "provenance": []
    },
    "kernelspec": {
      "name": "python3",
      "display_name": "Python 3"
    },
    "language_info": {
      "name": "python"
    }
  },
  "cells": [
    {
      "cell_type": "code",
      "source": [
        "import pandas as pd\n",
        "\n",
        "df = pd.read_csv(\"/content/Mafu 4.csv\")\n",
        "\n",
        "df = df.dropna()\n",
        "\n",
        "cols_to_clean = [\n",
        "    \"Tushim (soʻm)\",\n",
        "    \"Komissiya va logistika chiqarib tashlangan tushim (soʻm)\",\n",
        "    \"Narxi (soʻm)\",\n",
        "    \"Tannarxi (soʻm)\"\n",
        "]\n",
        "\n",
        "for col in cols_to_clean:\n",
        "    df[col] = df[col].astype(str).str.replace(\" \", \"\").str.replace(\",\", \"\").str.replace(\"₩\",\"\").str.replace(\"₽\",\"\")\n",
        "    df[col] = pd.to_numeric(df[col], errors=\"coerce\").fillna(0).astype(int)\n",
        "\n",
        "df_grouped = df.groupby([\"SKU\", \"Nomi\"], as_index=False).agg({\n",
        "    \"Tushim (soʻm)\": \"sum\",\n",
        "    \"Komissiya va logistika chiqarib tashlangan tushim (soʻm)\": \"sum\",\n",
        "    \"Tannarxi (soʻm)\": \"sum\"\n",
        "})\n",
        "\n",
        "df_grouped[\"Soliq\"] = df_grouped[\"Komissiya va logistika chiqarib tashlangan tushim (soʻm)\"] * 0.04\n",
        "\n",
        "\n",
        "df_grouped[\"Sof foyda\"] = df_grouped[\"Komissiya va logistika chiqarib tashlangan tushim (soʻm)\"] - df_grouped[\"Tannarxi (soʻm)\"] - df_grouped[\"Soliq\"]\n",
        "\n",
        "top10 = df_grouped.sort_values(by=\"Sof foyda\", ascending=False).head(10)\n",
        "\n",
        "\n",
        "top10.to_csv(\"uzum_market_top10.csv\", index=False, encoding=\"utf-8-sig\")\n",
        "\n",
        "print(\"✅ Top 10 mahsulot CSV faylga saqlandi: top10mahsulot.csv\")\n",
        "print(top10)\n",
        "top10.to_csv(\"uzum_market_top10.csv\", index=False, encoding=\"utf-8-sig\")"
      ],
      "metadata": {
        "colab": {
          "base_uri": "https://localhost:8080/"
        },
        "id": "z4EJQ4s4x2OU",
        "outputId": "2c8fb52e-d836-47f0-cc99-455e2800bb8f"
      },
      "execution_count": 11,
      "outputs": [
        {
          "output_type": "stream",
          "name": "stdout",
          "text": [
            "✅ Top 10 mahsulot CSV faylga saqlandi: top10mahsulot.csv\n",
            "                     SKU                                               Nomi  \\\n",
            "31         FOUR-30KPS-61  Kapsulalar kir yuvish uchun konditsionerli va ...   \n",
            "15  FOUR-06LAZER-ЗОЛХАКИ  Sig'il va papillomalar uchun kosmetik vosita l...   \n",
            "16    FOUR-06LAZER-СЕРЫЙ  Sig'il va papillomalar uchun kosmetik vosita l...   \n",
            "28         FOUR-30KPS-10  Kapsulalar kir yuvish uchun konditsionerli va ...   \n",
            "17           FOUR-12LSTR                                                  .   \n",
            "14    FOUR-06LAZER-БЕЛЫЙ  Sig'il va papillomalar uchun kosmetik vosita l...   \n",
            "29         FOUR-30KPS-20  Kapsulalar kir yuvish uchun konditsionerli va ...   \n",
            "7           FOUR-007MASJ  Orqa va tana massaji uchun matras elektr elka ...   \n",
            "3     FOUR-004KAPS-ЗЕЛЕН  Kapsulalar kir yuvish uchun konditsionerli va ...   \n",
            "30         FOUR-30KPS-50  Kapsulalar kir yuvish uchun konditsionerli va ...   \n",
            "\n",
            "    Tushim (soʻm)  Komissiya va logistika chiqarib tashlangan tushim (soʻm)  \\\n",
            "31     4261038000                                         3271281400          \n",
            "15     2604903000                                         2007722400          \n",
            "16     1974936000                                         1523548800          \n",
            "28     1529219000                                          956874700          \n",
            "17      839094000                                          743184600          \n",
            "14     1318540000                                         1010432000          \n",
            "29      610310000                                          428762800          \n",
            "7      1939800000                                         1537440000          \n",
            "3      1460203000                                         1110775600          \n",
            "30     1627606000                                         1232121800          \n",
            "\n",
            "    Tannarxi (soʻm)        Soliq    Sof foyda  \n",
            "31       2471700000  130851256.0  668730144.0  \n",
            "15       1401300000   80308896.0  526113504.0  \n",
            "16       1027620000   60941952.0  434986848.0  \n",
            "28        596700000   38274988.0  321899712.0  \n",
            "17        392000000   29727384.0  321457216.0  \n",
            "14        663740000   40417280.0  306274720.0  \n",
            "29        106100500   17150512.0  305511788.0  \n",
            "7        1233100000   61497600.0  242842400.0  \n",
            "3         836250000   44431024.0  230094576.0  \n",
            "30        963600000   49284872.0  219236928.0  \n"
          ]
        }
      ]
    }
  ]
}