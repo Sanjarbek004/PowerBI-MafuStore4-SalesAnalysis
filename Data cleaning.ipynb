{
  "nbformat": 4,
  "nbformat_minor": 0,
  "metadata": {
    "colab": {
      "provenance": []
    },
    "kernelspec": {
      "name": "python3",
      "display_name": "Python 3"
    },
    "language_info": {
      "name": "python"
    }
  },
  "cells": [
    {
      "cell_type": "code",
      "execution_count": null,
      "metadata": {
        "id": "KPWGounmQ-jL"
      },
      "outputs": [],
      "source": [
        "import pandas as pd"
      ]
    },
    {
      "cell_type": "code",
      "source": [
        "data=pd.read_csv(\"/content/Mafu 4.csv\")"
      ],
      "metadata": {
        "id": "juzOZdyvRj7K"
      },
      "execution_count": 2,
      "outputs": []
    },
    {
      "cell_type": "code",
      "source": [
        "data.shape"
      ],
      "metadata": {
        "colab": {
          "base_uri": "https://localhost:8080/"
        },
        "id": "kw2eHO8tRt6Y",
        "outputId": "a0b791de-d9a7-4b07-f0b7-a31d3840299d"
      },
      "execution_count": 3,
      "outputs": [
        {
          "output_type": "execute_result",
          "data": {
            "text/plain": [
              "(5396, 17)"
            ]
          },
          "metadata": {},
          "execution_count": 3
        }
      ]
    },
    {
      "cell_type": "code",
      "source": [
        "data.info()"
      ],
      "metadata": {
        "colab": {
          "base_uri": "https://localhost:8080/"
        },
        "id": "zJvv-MYQRwAP",
        "outputId": "431f5f3e-0262-4b7f-c838-d672afd147c3"
      },
      "execution_count": 4,
      "outputs": [
        {
          "output_type": "stream",
          "name": "stdout",
          "text": [
            "<class 'pandas.core.frame.DataFrame'>\n",
            "RangeIndex: 5396 entries, 0 to 5395\n",
            "Data columns (total 17 columns):\n",
            " #   Column                                                    Non-Null Count  Dtype \n",
            "---  ------                                                    --------------  ----- \n",
            " 0   Holati                                                    5396 non-null   object\n",
            " 1   Yaratilish sanasi                                         5396 non-null   object\n",
            " 2   Olinish sanasi                                            4145 non-null   object\n",
            " 3   Buyurtma raqami                                           5396 non-null   int64 \n",
            " 4   Shtrixkod                                                 5396 non-null   int64 \n",
            " 5   SKU                                                       5396 non-null   object\n",
            " 6   Nomi                                                      5396 non-null   object\n",
            " 7   Turkumi                                                   5396 non-null   object\n",
            " 8   Soni                                                      5396 non-null   int64 \n",
            " 9   Qaytarishlar                                              5396 non-null   int64 \n",
            " 10  Tushim (soʻm)                                             5396 non-null   object\n",
            " 11  Komissiya va logistika chiqarib tashlangan tushim (soʻm)  5396 non-null   object\n",
            " 12  Marketpleys komissiyasi (soʻm)                            5396 non-null   object\n",
            " 13  Narxi (soʻm)                                              5396 non-null   object\n",
            " 14  Promokod (soʻm)                                           5396 non-null   object\n",
            " 15  Tannarxi (soʻm)                                           5396 non-null   object\n",
            " 16  Logistika to'lovi                                         5396 non-null   int64 \n",
            "dtypes: int64(5), object(12)\n",
            "memory usage: 716.8+ KB\n"
          ]
        }
      ]
    },
    {
      "cell_type": "code",
      "source": [
        "data.isnull().sum()"
      ],
      "metadata": {
        "colab": {
          "base_uri": "https://localhost:8080/",
          "height": 617
        },
        "id": "qVI2Yhp0RyWY",
        "outputId": "5c25b2ef-d1c8-4368-979a-407b2fed6a3f"
      },
      "execution_count": 5,
      "outputs": [
        {
          "output_type": "execute_result",
          "data": {
            "text/plain": [
              "Holati                                                         0\n",
              "Yaratilish sanasi                                              0\n",
              "Olinish sanasi                                              1251\n",
              "Buyurtma raqami                                                0\n",
              "Shtrixkod                                                      0\n",
              "SKU                                                            0\n",
              "Nomi                                                           0\n",
              "Turkumi                                                        0\n",
              "Soni                                                           0\n",
              "Qaytarishlar                                                   0\n",
              "Tushim (soʻm)                                                  0\n",
              "Komissiya va logistika chiqarib tashlangan tushim (soʻm)       0\n",
              "Marketpleys komissiyasi (soʻm)                                 0\n",
              "Narxi (soʻm)                                                   0\n",
              "Promokod (soʻm)                                                0\n",
              "Tannarxi (soʻm)                                                0\n",
              "Logistika to'lovi                                              0\n",
              "dtype: int64"
            ],
            "text/html": [
              "<div>\n",
              "<style scoped>\n",
              "    .dataframe tbody tr th:only-of-type {\n",
              "        vertical-align: middle;\n",
              "    }\n",
              "\n",
              "    .dataframe tbody tr th {\n",
              "        vertical-align: top;\n",
              "    }\n",
              "\n",
              "    .dataframe thead th {\n",
              "        text-align: right;\n",
              "    }\n",
              "</style>\n",
              "<table border=\"1\" class=\"dataframe\">\n",
              "  <thead>\n",
              "    <tr style=\"text-align: right;\">\n",
              "      <th></th>\n",
              "      <th>0</th>\n",
              "    </tr>\n",
              "  </thead>\n",
              "  <tbody>\n",
              "    <tr>\n",
              "      <th>Holati</th>\n",
              "      <td>0</td>\n",
              "    </tr>\n",
              "    <tr>\n",
              "      <th>Yaratilish sanasi</th>\n",
              "      <td>0</td>\n",
              "    </tr>\n",
              "    <tr>\n",
              "      <th>Olinish sanasi</th>\n",
              "      <td>1251</td>\n",
              "    </tr>\n",
              "    <tr>\n",
              "      <th>Buyurtma raqami</th>\n",
              "      <td>0</td>\n",
              "    </tr>\n",
              "    <tr>\n",
              "      <th>Shtrixkod</th>\n",
              "      <td>0</td>\n",
              "    </tr>\n",
              "    <tr>\n",
              "      <th>SKU</th>\n",
              "      <td>0</td>\n",
              "    </tr>\n",
              "    <tr>\n",
              "      <th>Nomi</th>\n",
              "      <td>0</td>\n",
              "    </tr>\n",
              "    <tr>\n",
              "      <th>Turkumi</th>\n",
              "      <td>0</td>\n",
              "    </tr>\n",
              "    <tr>\n",
              "      <th>Soni</th>\n",
              "      <td>0</td>\n",
              "    </tr>\n",
              "    <tr>\n",
              "      <th>Qaytarishlar</th>\n",
              "      <td>0</td>\n",
              "    </tr>\n",
              "    <tr>\n",
              "      <th>Tushim (soʻm)</th>\n",
              "      <td>0</td>\n",
              "    </tr>\n",
              "    <tr>\n",
              "      <th>Komissiya va logistika chiqarib tashlangan tushim (soʻm)</th>\n",
              "      <td>0</td>\n",
              "    </tr>\n",
              "    <tr>\n",
              "      <th>Marketpleys komissiyasi (soʻm)</th>\n",
              "      <td>0</td>\n",
              "    </tr>\n",
              "    <tr>\n",
              "      <th>Narxi (soʻm)</th>\n",
              "      <td>0</td>\n",
              "    </tr>\n",
              "    <tr>\n",
              "      <th>Promokod (soʻm)</th>\n",
              "      <td>0</td>\n",
              "    </tr>\n",
              "    <tr>\n",
              "      <th>Tannarxi (soʻm)</th>\n",
              "      <td>0</td>\n",
              "    </tr>\n",
              "    <tr>\n",
              "      <th>Logistika to'lovi</th>\n",
              "      <td>0</td>\n",
              "    </tr>\n",
              "  </tbody>\n",
              "</table>\n",
              "</div><br><label><b>dtype:</b> int64</label>"
            ]
          },
          "metadata": {},
          "execution_count": 5
        }
      ]
    },
    {
      "cell_type": "code",
      "source": [
        "bosh=data.isnull().mean()*100\n",
        "bosh"
      ],
      "metadata": {
        "colab": {
          "base_uri": "https://localhost:8080/",
          "height": 617
        },
        "id": "qJ1sI9BaR8Qd",
        "outputId": "786e010f-2864-4727-bb72-6fd514986e07"
      },
      "execution_count": 7,
      "outputs": [
        {
          "output_type": "execute_result",
          "data": {
            "text/plain": [
              "Holati                                                       0.00000\n",
              "Yaratilish sanasi                                            0.00000\n",
              "Olinish sanasi                                              23.18384\n",
              "Buyurtma raqami                                              0.00000\n",
              "Shtrixkod                                                    0.00000\n",
              "SKU                                                          0.00000\n",
              "Nomi                                                         0.00000\n",
              "Turkumi                                                      0.00000\n",
              "Soni                                                         0.00000\n",
              "Qaytarishlar                                                 0.00000\n",
              "Tushim (soʻm)                                                0.00000\n",
              "Komissiya va logistika chiqarib tashlangan tushim (soʻm)     0.00000\n",
              "Marketpleys komissiyasi (soʻm)                               0.00000\n",
              "Narxi (soʻm)                                                 0.00000\n",
              "Promokod (soʻm)                                              0.00000\n",
              "Tannarxi (soʻm)                                              0.00000\n",
              "Logistika to'lovi                                            0.00000\n",
              "dtype: float64"
            ],
            "text/html": [
              "<div>\n",
              "<style scoped>\n",
              "    .dataframe tbody tr th:only-of-type {\n",
              "        vertical-align: middle;\n",
              "    }\n",
              "\n",
              "    .dataframe tbody tr th {\n",
              "        vertical-align: top;\n",
              "    }\n",
              "\n",
              "    .dataframe thead th {\n",
              "        text-align: right;\n",
              "    }\n",
              "</style>\n",
              "<table border=\"1\" class=\"dataframe\">\n",
              "  <thead>\n",
              "    <tr style=\"text-align: right;\">\n",
              "      <th></th>\n",
              "      <th>0</th>\n",
              "    </tr>\n",
              "  </thead>\n",
              "  <tbody>\n",
              "    <tr>\n",
              "      <th>Holati</th>\n",
              "      <td>0.00000</td>\n",
              "    </tr>\n",
              "    <tr>\n",
              "      <th>Yaratilish sanasi</th>\n",
              "      <td>0.00000</td>\n",
              "    </tr>\n",
              "    <tr>\n",
              "      <th>Olinish sanasi</th>\n",
              "      <td>23.18384</td>\n",
              "    </tr>\n",
              "    <tr>\n",
              "      <th>Buyurtma raqami</th>\n",
              "      <td>0.00000</td>\n",
              "    </tr>\n",
              "    <tr>\n",
              "      <th>Shtrixkod</th>\n",
              "      <td>0.00000</td>\n",
              "    </tr>\n",
              "    <tr>\n",
              "      <th>SKU</th>\n",
              "      <td>0.00000</td>\n",
              "    </tr>\n",
              "    <tr>\n",
              "      <th>Nomi</th>\n",
              "      <td>0.00000</td>\n",
              "    </tr>\n",
              "    <tr>\n",
              "      <th>Turkumi</th>\n",
              "      <td>0.00000</td>\n",
              "    </tr>\n",
              "    <tr>\n",
              "      <th>Soni</th>\n",
              "      <td>0.00000</td>\n",
              "    </tr>\n",
              "    <tr>\n",
              "      <th>Qaytarishlar</th>\n",
              "      <td>0.00000</td>\n",
              "    </tr>\n",
              "    <tr>\n",
              "      <th>Tushim (soʻm)</th>\n",
              "      <td>0.00000</td>\n",
              "    </tr>\n",
              "    <tr>\n",
              "      <th>Komissiya va logistika chiqarib tashlangan tushim (soʻm)</th>\n",
              "      <td>0.00000</td>\n",
              "    </tr>\n",
              "    <tr>\n",
              "      <th>Marketpleys komissiyasi (soʻm)</th>\n",
              "      <td>0.00000</td>\n",
              "    </tr>\n",
              "    <tr>\n",
              "      <th>Narxi (soʻm)</th>\n",
              "      <td>0.00000</td>\n",
              "    </tr>\n",
              "    <tr>\n",
              "      <th>Promokod (soʻm)</th>\n",
              "      <td>0.00000</td>\n",
              "    </tr>\n",
              "    <tr>\n",
              "      <th>Tannarxi (soʻm)</th>\n",
              "      <td>0.00000</td>\n",
              "    </tr>\n",
              "    <tr>\n",
              "      <th>Logistika to'lovi</th>\n",
              "      <td>0.00000</td>\n",
              "    </tr>\n",
              "  </tbody>\n",
              "</table>\n",
              "</div><br><label><b>dtype:</b> float64</label>"
            ]
          },
          "metadata": {},
          "execution_count": 7
        }
      ]
    },
    {
      "cell_type": "code",
      "source": [
        "kerakmas=[\"Holati\", \"Yaratilish sanasi\", \"Olinish sanasi\", \"Buyurtma raqami\", \"Promokod (soʻm)\"]\n",
        "data.drop(columns=kerakmas, inplace=True)"
      ],
      "metadata": {
        "id": "oT_GVpxdSRnY"
      },
      "execution_count": 8,
      "outputs": []
    },
    {
      "cell_type": "code",
      "source": [
        "data.columns"
      ],
      "metadata": {
        "colab": {
          "base_uri": "https://localhost:8080/"
        },
        "id": "agvMxYzSS-wG",
        "outputId": "ee8fc9d9-e7a1-40e9-dbac-840456a7df9f"
      },
      "execution_count": 9,
      "outputs": [
        {
          "output_type": "execute_result",
          "data": {
            "text/plain": [
              "Index(['Shtrixkod', 'SKU', 'Nomi', 'Turkumi', 'Soni', 'Qaytarishlar',\n",
              "       'Tushim (soʻm)',\n",
              "       'Komissiya va logistika chiqarib tashlangan tushim (soʻm)',\n",
              "       'Marketpleys komissiyasi (soʻm)', 'Narxi (soʻm)', 'Tannarxi (soʻm)',\n",
              "       'Logistika to'lovi'],\n",
              "      dtype='object')"
            ]
          },
          "metadata": {},
          "execution_count": 9
        }
      ]
    },
    {
      "cell_type": "code",
      "source": [
        "data.dtypes"
      ],
      "metadata": {
        "colab": {
          "base_uri": "https://localhost:8080/",
          "height": 554
        },
        "id": "fz-NMCYUTC0A",
        "outputId": "143530d4-2869-4dce-f325-a3887d915de7"
      },
      "execution_count": 24,
      "outputs": [
        {
          "output_type": "execute_result",
          "data": {
            "text/plain": [
              "Shtrixkod                                                     int64\n",
              "SKU                                                          object\n",
              "Nomi                                                         object\n",
              "Turkumi                                                      object\n",
              "Soni                                                          int64\n",
              "Qaytarishlar                                                  int64\n",
              "Tushim (soʻm)                                                 int64\n",
              "Komissiya va logistika chiqarib tashlangan tushim (soʻm)    float64\n",
              "Marketpleys komissiyasi (soʻm)                              float64\n",
              "Narxi (soʻm)                                                float64\n",
              "Tannarxi (soʻm)                                             float64\n",
              "Logistika to'lovi                                             int64\n",
              "SKU_encoded                                                   int64\n",
              "Nomi_encoded                                                  int64\n",
              "Turkumi_encoded                                               int64\n",
              "dtype: object"
            ],
            "text/html": [
              "<div>\n",
              "<style scoped>\n",
              "    .dataframe tbody tr th:only-of-type {\n",
              "        vertical-align: middle;\n",
              "    }\n",
              "\n",
              "    .dataframe tbody tr th {\n",
              "        vertical-align: top;\n",
              "    }\n",
              "\n",
              "    .dataframe thead th {\n",
              "        text-align: right;\n",
              "    }\n",
              "</style>\n",
              "<table border=\"1\" class=\"dataframe\">\n",
              "  <thead>\n",
              "    <tr style=\"text-align: right;\">\n",
              "      <th></th>\n",
              "      <th>0</th>\n",
              "    </tr>\n",
              "  </thead>\n",
              "  <tbody>\n",
              "    <tr>\n",
              "      <th>Shtrixkod</th>\n",
              "      <td>int64</td>\n",
              "    </tr>\n",
              "    <tr>\n",
              "      <th>SKU</th>\n",
              "      <td>object</td>\n",
              "    </tr>\n",
              "    <tr>\n",
              "      <th>Nomi</th>\n",
              "      <td>object</td>\n",
              "    </tr>\n",
              "    <tr>\n",
              "      <th>Turkumi</th>\n",
              "      <td>object</td>\n",
              "    </tr>\n",
              "    <tr>\n",
              "      <th>Soni</th>\n",
              "      <td>int64</td>\n",
              "    </tr>\n",
              "    <tr>\n",
              "      <th>Qaytarishlar</th>\n",
              "      <td>int64</td>\n",
              "    </tr>\n",
              "    <tr>\n",
              "      <th>Tushim (soʻm)</th>\n",
              "      <td>int64</td>\n",
              "    </tr>\n",
              "    <tr>\n",
              "      <th>Komissiya va logistika chiqarib tashlangan tushim (soʻm)</th>\n",
              "      <td>float64</td>\n",
              "    </tr>\n",
              "    <tr>\n",
              "      <th>Marketpleys komissiyasi (soʻm)</th>\n",
              "      <td>float64</td>\n",
              "    </tr>\n",
              "    <tr>\n",
              "      <th>Narxi (soʻm)</th>\n",
              "      <td>float64</td>\n",
              "    </tr>\n",
              "    <tr>\n",
              "      <th>Tannarxi (soʻm)</th>\n",
              "      <td>float64</td>\n",
              "    </tr>\n",
              "    <tr>\n",
              "      <th>Logistika to'lovi</th>\n",
              "      <td>int64</td>\n",
              "    </tr>\n",
              "    <tr>\n",
              "      <th>SKU_encoded</th>\n",
              "      <td>int64</td>\n",
              "    </tr>\n",
              "    <tr>\n",
              "      <th>Nomi_encoded</th>\n",
              "      <td>int64</td>\n",
              "    </tr>\n",
              "    <tr>\n",
              "      <th>Turkumi_encoded</th>\n",
              "      <td>int64</td>\n",
              "    </tr>\n",
              "  </tbody>\n",
              "</table>\n",
              "</div><br><label><b>dtype:</b> object</label>"
            ]
          },
          "metadata": {},
          "execution_count": 24
        }
      ]
    },
    {
      "cell_type": "code",
      "source": [
        "from sklearn.preprocessing import LabelEncoder\n",
        "le = LabelEncoder()\n",
        "data['SKU_encoded'] = le.fit_transform(data['SKU'])\n",
        "data['Nomi_encoded'] = le.fit_transform(data['Nomi'])\n",
        "data['Turkumi_encoded'] = le.fit_transform(data['Turkumi'])\n",
        "\n"
      ],
      "metadata": {
        "id": "ChlI2YAfTUKW"
      },
      "execution_count": 19,
      "outputs": []
    },
    {
      "cell_type": "code",
      "source": [
        "numeric_cols = data.select_dtypes(include=['int64', 'float64']).columns"
      ],
      "metadata": {
        "id": "eiM5OyZXXuDx"
      },
      "execution_count": 26,
      "outputs": []
    },
    {
      "cell_type": "code",
      "source": [
        "corr_matrix = data[numeric_cols].corr()\n",
        "print(corr_matrix['Tushim (soʻm)'].sort_values(ascending=False))"
      ],
      "metadata": {
        "colab": {
          "base_uri": "https://localhost:8080/"
        },
        "id": "O877QDpNX_Pf",
        "outputId": "ddec7063-0983-495f-8f9d-c88f73c2c1e6"
      },
      "execution_count": 29,
      "outputs": [
        {
          "output_type": "stream",
          "name": "stdout",
          "text": [
            "Tushim (soʻm)                                               1.000000\n",
            "Komissiya va logistika chiqarib tashlangan tushim (soʻm)    0.998407\n",
            "Marketpleys komissiyasi (soʻm)                              0.977507\n",
            "Tannarxi (soʻm)                                             0.732156\n",
            "Narxi (soʻm)                                                0.728874\n",
            "Logistika to'lovi                                           0.538928\n",
            "Nomi_encoded                                                0.303531\n",
            "Turkumi_encoded                                             0.220246\n",
            "Soni                                                        0.050086\n",
            "Shtrixkod                                                  -0.171024\n",
            "SKU_encoded                                                -0.243545\n",
            "Qaytarishlar                                               -0.319448\n",
            "Name: Tushim (soʻm), dtype: float64\n"
          ]
        }
      ]
    },
    {
      "cell_type": "code",
      "source": [
        "import seaborn as sns\n",
        "import matplotlib.pyplot as plt"
      ],
      "metadata": {
        "id": "Ju78mFfLYn3V"
      },
      "execution_count": 31,
      "outputs": []
    },
    {
      "cell_type": "code",
      "source": [
        "sns.pairplot(data[['Narxi (soʻm)', 'Tushim (soʻm)', 'Soni', 'Tannarxi (soʻm)']])\n",
        "plt.show()\n"
      ],
      "metadata": {
        "colab": {
          "base_uri": "https://localhost:8080/",
          "height": 1000
        },
        "id": "6K8yFEiYYKGA",
        "outputId": "90266576-68ba-422c-de90-556e133db449"
      },
      "execution_count": 32,
      "outputs": [
        {
          "output_type": "display_data",
          "data": {
            "text/plain": [
              "<Figure size 1000x1000 with 20 Axes>"
            ],
            "image/png": "[encoded data removed]"
          },
          "metadata": {}
        }
      ]
    },
    {
      "cell_type": "code",
      "source": [
        "from sklearn.preprocessing import LabelEncoder\n",
        "\n",
        "for col in ['SKU', 'Nomi', 'Turkumi']:\n",
        "    le = LabelEncoder()\n",
        "    data[col] = le.fit_transform(data[col])\n"
      ],
      "metadata": {
        "id": "T7-mvWFoZojY"
      },
      "execution_count": 34,
      "outputs": []
    },
    {
      "cell_type": "code",
      "source": [
        "from sklearn.model_selection import train_test_split\n",
        "from sklearn.ensemble import RandomForestRegressor\n",
        "from sklearn.metrics import mean_squared_error, r2_score\n",
        "import numpy as np\n",
        "\n",
        "y = data['Tushim (soʻm)']\n",
        "\n",
        "X = data.drop(columns=['Tushim (soʻm)', 'SKU', 'Nomi', 'Turkumi'])\n",
        "\n",
        "X_train, X_test, y_train, y_test = train_test_split(X, y, test_size=0.3, random_state=42)\n",
        "\n",
        "model = RandomForestRegressor(random_state=42)\n",
        "model.fit(X_train, y_train)\n",
        "y_pred = model.predict(X_test)\n",
        "rmse = np.sqrt(mean_squared_error(y_test, y_pred))\n",
        "r2 = r2_score(y_test, y_pred)\n",
        "\n",
        "print(f'RMSE: {rmse}')\n",
        "print(f'R2 Score: {r2}')\n"
      ],
      "metadata": {
        "colab": {
          "base_uri": "https://localhost:8080/"
        },
        "id": "ctSLqBYjYyPF",
        "outputId": "52eb4180-4afb-4fe4-9db8-e8eaf4052646"
      },
      "execution_count": 36,
      "outputs": [
        {
          "output_type": "stream",
          "name": "stdout",
          "text": [
            "RMSE: 259133.99890228763\n",
            "R2 Score: 0.9992525098021064\n"
          ]
        }
      ]
    }
  ]
}